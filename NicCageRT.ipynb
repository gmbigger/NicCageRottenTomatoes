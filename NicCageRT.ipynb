{
 "cells": [
  {
   "cell_type": "markdown",
   "metadata": {},
   "source": [
    "### Using Beautiful Soup to scrape Rotten Tomoatoes"
   ]
  },
  {
   "cell_type": "markdown",
   "metadata": {},
   "source": [
    "In this notebook I will be using Beautiful Soup to scrape Nicolas Cage's profile on Rotten Tomatoes\n",
    "\n",
    "I will then use Pandas to create a dataframe from the scraped data and save it to a .csv file for further visual analysis."
   ]
  },
  {
   "cell_type": "code",
   "execution_count": 1,
   "metadata": {},
   "outputs": [],
   "source": [
    "import pandas as pd\n",
    "import requests\n",
    "import bs4\n",
    "import lxml"
   ]
  },
  {
   "cell_type": "code",
   "execution_count": 2,
   "metadata": {},
   "outputs": [
    {
     "data": {
      "text/plain": [
       "'python-requests/2.27.1'"
      ]
     },
     "execution_count": 2,
     "metadata": {},
     "output_type": "execute_result"
    }
   ],
   "source": [
    "session = requests.Session()\n",
    "session.headers[\"User-Agent\"]"
   ]
  },
  {
   "cell_type": "code",
   "execution_count": 3,
   "metadata": {},
   "outputs": [],
   "source": [
    "res = requests.get(\"https://www.rottentomatoes.com/celebrity/nicolas_cage\")"
   ]
  },
  {
   "cell_type": "code",
   "execution_count": 4,
   "metadata": {},
   "outputs": [],
   "source": [
    "soup = bs4.BeautifulSoup(res.text,\"lxml\")"
   ]
  },
  {
   "cell_type": "code",
   "execution_count": 5,
   "metadata": {},
   "outputs": [],
   "source": [
    "table = soup.find(\"table\", attrs={\"data-qa\":\"celebrity-filmography-movies\"})\n",
    "table_body = table.find(\"tbody\")"
   ]
  },
  {
   "cell_type": "markdown",
   "metadata": {},
   "source": [
    "Collect select data from rows using list comprehension"
   ]
  },
  {
   "cell_type": "code",
   "execution_count": 31,
   "metadata": {},
   "outputs": [],
   "source": [
    "# Collect titles\n",
    "data_title = [item[\"data-title\"] for item in table.find_all(\"tr\", attrs={\"data-title\" : True})]"
   ]
  },
  {
   "cell_type": "code",
   "execution_count": 32,
   "metadata": {},
   "outputs": [],
   "source": [
    "# Collect box office data\n",
    "# Note: I choose to insert \"NULL\" because None is converted to 0 when uploading a SQL client.\n",
    "data_boxoffice = [\"NULL\" if item[\"data-boxoffice\"] == \"\" else item[\"data-boxoffice\"] for item in table.find_all(\"tr\", attrs={\"data-boxoffice\" : True})]"
   ]
  },
  {
   "cell_type": "code",
   "execution_count": 33,
   "metadata": {},
   "outputs": [],
   "source": [
    "# Collect release year\n",
    "data_year = [item[\"data-year\"] for item in table.find_all(\"tr\", attrs={\"data-year\" : True})]"
   ]
  },
  {
   "cell_type": "code",
   "execution_count": 34,
   "metadata": {},
   "outputs": [],
   "source": [
    "# Collect Rotten Tomatoes score\n",
    "\n",
    "# Unlike the boxoffice data which will collect no data if there was no money made, the critic and audience scores will collect zero if no reviews were made. This is an issue since some of the movies have a zero rating because they were rated poorly by either critics or the audience. Therefore, additional parcing was needed in order to accurately reflect this discrepancy.\n",
    "\n",
    "data_tomatometer = [\"NULL\" if (item.find_all(\"span\", attrs={\"data-tomatometer\": 0}) and item.find_all(\"span\", attrs={\"class\": \"celebrity-filmography__no-score\"})) else item[\"data-tomatometer\"] for item in table.findAll(\"tr\", attrs={\"data-tomatometer\" : True})]"
   ]
  },
  {
   "cell_type": "code",
   "execution_count": 35,
   "metadata": {},
   "outputs": [],
   "source": [
    "# Collect audience scores\n",
    "data_audiencescore = [\"NULL\" if (item.find_all(\"span\", attrs={\"data-audiencescore\": 0}) and item.find_all(\"span\", attrs={\"class\": \"celebrity-filmography__no-score\"})) else item[\"data-audiencescore\"] for item in table.findAll(\"tr\", attrs={\"data-audiencescore\" : True})]"
   ]
  },
  {
   "cell_type": "markdown",
   "metadata": {},
   "source": [
    "Create single list from collected data"
   ]
  },
  {
   "cell_type": "code",
   "execution_count": 36,
   "metadata": {},
   "outputs": [],
   "source": [
    "data = list(zip(data_title, data_boxoffice, data_year, data_tomatometer, data_audiencescore))"
   ]
  },
  {
   "cell_type": "markdown",
   "metadata": {},
   "source": [
    "View new list"
   ]
  },
  {
   "cell_type": "code",
   "execution_count": 26,
   "metadata": {},
   "outputs": [
    {
     "data": {
      "text/plain": [
       "[('The Unbearable Weight of Massive Talent', '19490586', '2022', '87', '87'),\n",
       " ('Prisoners of the Ghostland', None, '2021', '62', '20'),\n",
       " ('Pig', '3138901', '2021', '96', '84'),\n",
       " (\"Willy's Wonderland\", '388722', '2021', '60', '68'),\n",
       " ('The Croods: A New Age', '58544525', '2020', '77', '94'),\n",
       " ('Jiu Jitsu', None, '2020', '28', '64'),\n",
       " ('Color Out of Space', '677283', '2019', '86', '82'),\n",
       " ('Grand Isle', None, '2019', '0', '45'),\n",
       " ('Primal', None, '2019', '37', '22'),\n",
       " ('Kill Chain', None, '2019', None, '31'),\n",
       " ('Running With the Devil', None, '2019', '24', '36'),\n",
       " ('A Score to Settle', None, '2019', '15', '17'),\n",
       " ('Between Worlds', None, '2018', '32', '82'),\n",
       " ('Spider-Man: Into the Spider-Verse', '190193195', '2018', '97', '93'),\n",
       " ('Becoming Iconic', None, '2018', None, '99'),\n",
       " ('Mandy', '1233694', '2018', '90', '67'),\n",
       " ('Teen Titans GO! to the Movies', '29553885', '2018', '91', '71'),\n",
       " ('211', None, '2018', '4', '9'),\n",
       " ('Looking Glass', None, '2018', '21', '10'),\n",
       " ('Looking Glass', None, '2018', None, None),\n",
       " ('The Humanity Bureau', None, '2017', '25', '22'),\n",
       " ('Mom and Dad', None, '2017', '75', '40'),\n",
       " ('Vengeance: A Love Story', '4526', '2017', None, '26'),\n",
       " ('Inconceivable', None, '2017', '31', '60'),\n",
       " ('Arsenal', None, '2017', '3', '17'),\n",
       " ('USS Indianapolis: Men of Courage', None, '2016', '17', '30'),\n",
       " ('Dog Eat Dog', None, '2016', '49', '19'),\n",
       " ('Army of One', None, '2016', '25', '26'),\n",
       " ('Snowden', '21562346', '2016', '61', '70'),\n",
       " ('The Trust', None, '2016', '63', '29'),\n",
       " ('Pay the Ghost', None, '2015', '10', '25'),\n",
       " ('The Runner', None, '2015', '24', '22'),\n",
       " ('Outcast', None, '2014', '4', '22'),\n",
       " ('Dying of the Light', None, '2014', '11', '15'),\n",
       " ('Left Behind', '13998282', '2014', '0', '4'),\n",
       " ('Tokarev', None, '2014', '12', '28'),\n",
       " ('Joe', '371897', '2013', '86', '68'),\n",
       " ('The Frozen Ground', None, '2013', '61', '50'),\n",
       " ('The Croods', '187165546', '2013', '72', '77'),\n",
       " (\"Can't Stand Losing You: Surviving the Police\", '23193', '2012', '39', '67'),\n",
       " ('Stolen', '289773', '2012', '20', '34'),\n",
       " ('A Thousand Words', '18438149', '2012', '0', '47'),\n",
       " ('Justice', None, '2011', '28', '39'),\n",
       " ('Ghost Rider: Spirit of Vengeance', '51774002', '2011', '18', '31'),\n",
       " ('Trespass', '16816', '2011', '11', '22'),\n",
       " ('Drive Angry', '10706786', '2011', '48', '37'),\n",
       " ('Season of the Witch', '24823283', '2011', '11', '30'),\n",
       " (\"The Sorcerer's Apprentice\", '63143812', '2010', '40', '53'),\n",
       " ('Kick-Ass', '48043505', '2010', '76', '81'),\n",
       " ('Bad Lieutenant: Port of Call New Orleans', '1697956', '2009', '86', '57'),\n",
       " ('Astro Boy', '19548064', '2009', '50', '50'),\n",
       " ('G-Force', '119420252', '2009', '22', '39'),\n",
       " ('Knowing', '79948113', '2009', '34', '42'),\n",
       " ('Bangkok Dangerous', '15279680', '2008', '9', '26'),\n",
       " ('National Treasure: Book of Secrets', '219961501', '2007', '36', '67'),\n",
       " ('Next', '17993461', '2007', '28', '53'),\n",
       " ('Ghost Rider', '115802596', '2007', '26', '48'),\n",
       " ('The Wicker Man', '18830', '2006', '15', '17'),\n",
       " ('World Trade Center', '70236496', '2006', '66', '60'),\n",
       " ('The Ant Bully', '28133159', '2006', '62', '42'),\n",
       " ('The Weather Man', '12469811', '2005', '59', '56'),\n",
       " ('Lord of War', '24127895', '2005', '61', '84'),\n",
       " ('National Treasure', '173001206', '2004', '46', '76'),\n",
       " ('Matchstick Men', '36873198', '2003', '82', '74'),\n",
       " ('The Life of David Gale', '19593740', '2003', '19', '81'),\n",
       " ('Sonny', '17639', '2002', '22', '41'),\n",
       " ('Adaptation', '22245861', '2002', '90', '85'),\n",
       " ('Windtalkers', '40911830', '2002', '33', '50'),\n",
       " ('Christmas Carol: The Movie', None, '2001', '13', '48'),\n",
       " (\"Captain Corelli's Mandolin\", '25528495', '2001', '28', '50'),\n",
       " ('Bel Air', None, '2000', None, None),\n",
       " ('Shadow of the Vampire', '8279017', '2000', '81', '74'),\n",
       " ('The Family Man', '75764085', '2000', '53', '67'),\n",
       " ('Gone in Sixty Seconds', '101643008', '2000', '25', '77'),\n",
       " ('Bringing Out the Dead', '16640210', '1999', '72', '70'),\n",
       " ('8MM', '36283504', '1999', '23', '52'),\n",
       " ('Snake Eyes', '55557996', '1998', '40', '35'),\n",
       " ('Welcome to Hollywood', None, '1998', None, '60'),\n",
       " ('City of Angels', '78745923', '1998', '58', '82'),\n",
       " ('Face/Off', '112276146', '1997', '92', '82'),\n",
       " ('Con Air', '101111259', '1997', '55', '75'),\n",
       " ('The Rock', '134067443', '1996', '68', '85'),\n",
       " ('Leaving Las Vegas', '29890321', '1995', '89', '85'),\n",
       " ('Kiss of Death', '14662444', '1995', '67', '37'),\n",
       " ('It Could Happen to You', '37791144', '1994', '71', '54'),\n",
       " ('Guarding Tess', '26180706', '1994', '56', '47'),\n",
       " ('Trapped in Paradise', '5821500', '1994', '5', '41'),\n",
       " ('Deadfall', '9183', '1993', '0', '26'),\n",
       " ('Amos & Andrew', '9461630', '1993', '17', '31'),\n",
       " ('Red Rock West', None, '1993', '97', '75'),\n",
       " ('Honeymoon in Vegas', '33489135', '1992', '65', '35'),\n",
       " ('Zandalee', None, '1991', '33', '29'),\n",
       " ('Fire Birds', '14760451', '1990', '10', '35'),\n",
       " ('Industrial Symphony No. 1: The Dream of the Broken Hearted',\n",
       "  None,\n",
       "  '1990',\n",
       "  None,\n",
       "  None),\n",
       " ('Wild at Heart', '14535649', '1990', '68', '81'),\n",
       " ('Time to Kill', None, '1990', None, '20'),\n",
       " (\"Vampire's Kiss\", '96699', '1989', '58', '53'),\n",
       " ('Moonstruck', '80022465', '1987', '94', '80'),\n",
       " ('Raising Arizona', '21105043', '1987', '90', '85'),\n",
       " ('The Boy in Blue', '235904', '1986', None, '43'),\n",
       " ('Peggy Sue Got Married', '37726832', '1986', '86', '55'),\n",
       " ('Racing With the Moon', None, '1984', '60', '62'),\n",
       " ('The Cotton Club', None, '1984', '77', '55'),\n",
       " ('Birdy', None, '1984', '83', '84'),\n",
       " ('Rumble Fish', None, '1983', '75', '80'),\n",
       " ('Valley Girl', None, '1983', '83', '72'),\n",
       " ('Fast Times at Ridgemont High', None, '1982', '78', '80')]"
      ]
     },
     "execution_count": 26,
     "metadata": {},
     "output_type": "execute_result"
    }
   ],
   "source": [
    "data"
   ]
  },
  {
   "cell_type": "markdown",
   "metadata": {},
   "source": [
    "Create pandas dataframe from list"
   ]
  },
  {
   "cell_type": "code",
   "execution_count": 37,
   "metadata": {},
   "outputs": [],
   "source": [
    "df = pd.DataFrame(data, columns = [\"Title\", \"Boxoffice\", \"ReleaseYear\", \"RTScore\", \"AudienceScore\"])"
   ]
  },
  {
   "cell_type": "markdown",
   "metadata": {},
   "source": [
    "View new dataframe"
   ]
  },
  {
   "cell_type": "code",
   "execution_count": 38,
   "metadata": {},
   "outputs": [
    {
     "data": {
      "text/html": [
       "<div>\n",
       "<style scoped>\n",
       "    .dataframe tbody tr th:only-of-type {\n",
       "        vertical-align: middle;\n",
       "    }\n",
       "\n",
       "    .dataframe tbody tr th {\n",
       "        vertical-align: top;\n",
       "    }\n",
       "\n",
       "    .dataframe thead th {\n",
       "        text-align: right;\n",
       "    }\n",
       "</style>\n",
       "<table border=\"1\" class=\"dataframe\">\n",
       "  <thead>\n",
       "    <tr style=\"text-align: right;\">\n",
       "      <th></th>\n",
       "      <th>Title</th>\n",
       "      <th>Boxoffice</th>\n",
       "      <th>ReleaseYear</th>\n",
       "      <th>RTScore</th>\n",
       "      <th>AudienceScore</th>\n",
       "    </tr>\n",
       "  </thead>\n",
       "  <tbody>\n",
       "    <tr>\n",
       "      <th>0</th>\n",
       "      <td>The Unbearable Weight of Massive Talent</td>\n",
       "      <td>19490586</td>\n",
       "      <td>2022</td>\n",
       "      <td>87</td>\n",
       "      <td>87</td>\n",
       "    </tr>\n",
       "    <tr>\n",
       "      <th>1</th>\n",
       "      <td>Prisoners of the Ghostland</td>\n",
       "      <td>NULL</td>\n",
       "      <td>2021</td>\n",
       "      <td>62</td>\n",
       "      <td>20</td>\n",
       "    </tr>\n",
       "    <tr>\n",
       "      <th>2</th>\n",
       "      <td>Pig</td>\n",
       "      <td>3138901</td>\n",
       "      <td>2021</td>\n",
       "      <td>96</td>\n",
       "      <td>84</td>\n",
       "    </tr>\n",
       "    <tr>\n",
       "      <th>3</th>\n",
       "      <td>Willy's Wonderland</td>\n",
       "      <td>388722</td>\n",
       "      <td>2021</td>\n",
       "      <td>60</td>\n",
       "      <td>68</td>\n",
       "    </tr>\n",
       "    <tr>\n",
       "      <th>4</th>\n",
       "      <td>The Croods: A New Age</td>\n",
       "      <td>58544525</td>\n",
       "      <td>2020</td>\n",
       "      <td>77</td>\n",
       "      <td>94</td>\n",
       "    </tr>\n",
       "    <tr>\n",
       "      <th>...</th>\n",
       "      <td>...</td>\n",
       "      <td>...</td>\n",
       "      <td>...</td>\n",
       "      <td>...</td>\n",
       "      <td>...</td>\n",
       "    </tr>\n",
       "    <tr>\n",
       "      <th>102</th>\n",
       "      <td>The Cotton Club</td>\n",
       "      <td>NULL</td>\n",
       "      <td>1984</td>\n",
       "      <td>77</td>\n",
       "      <td>55</td>\n",
       "    </tr>\n",
       "    <tr>\n",
       "      <th>103</th>\n",
       "      <td>Birdy</td>\n",
       "      <td>NULL</td>\n",
       "      <td>1984</td>\n",
       "      <td>83</td>\n",
       "      <td>84</td>\n",
       "    </tr>\n",
       "    <tr>\n",
       "      <th>104</th>\n",
       "      <td>Rumble Fish</td>\n",
       "      <td>NULL</td>\n",
       "      <td>1983</td>\n",
       "      <td>75</td>\n",
       "      <td>80</td>\n",
       "    </tr>\n",
       "    <tr>\n",
       "      <th>105</th>\n",
       "      <td>Valley Girl</td>\n",
       "      <td>NULL</td>\n",
       "      <td>1983</td>\n",
       "      <td>83</td>\n",
       "      <td>72</td>\n",
       "    </tr>\n",
       "    <tr>\n",
       "      <th>106</th>\n",
       "      <td>Fast Times at Ridgemont High</td>\n",
       "      <td>NULL</td>\n",
       "      <td>1982</td>\n",
       "      <td>78</td>\n",
       "      <td>80</td>\n",
       "    </tr>\n",
       "  </tbody>\n",
       "</table>\n",
       "<p>107 rows × 5 columns</p>\n",
       "</div>"
      ],
      "text/plain": [
       "                                       Title Boxoffice ReleaseYear RTScore  \\\n",
       "0    The Unbearable Weight of Massive Talent  19490586        2022      87   \n",
       "1                 Prisoners of the Ghostland      NULL        2021      62   \n",
       "2                                        Pig   3138901        2021      96   \n",
       "3                         Willy's Wonderland    388722        2021      60   \n",
       "4                      The Croods: A New Age  58544525        2020      77   \n",
       "..                                       ...       ...         ...     ...   \n",
       "102                          The Cotton Club      NULL        1984      77   \n",
       "103                                    Birdy      NULL        1984      83   \n",
       "104                              Rumble Fish      NULL        1983      75   \n",
       "105                              Valley Girl      NULL        1983      83   \n",
       "106             Fast Times at Ridgemont High      NULL        1982      78   \n",
       "\n",
       "    AudienceScore  \n",
       "0              87  \n",
       "1              20  \n",
       "2              84  \n",
       "3              68  \n",
       "4              94  \n",
       "..            ...  \n",
       "102            55  \n",
       "103            84  \n",
       "104            80  \n",
       "105            72  \n",
       "106            80  \n",
       "\n",
       "[107 rows x 5 columns]"
      ]
     },
     "execution_count": 38,
     "metadata": {},
     "output_type": "execute_result"
    }
   ],
   "source": [
    "df"
   ]
  },
  {
   "cell_type": "markdown",
   "metadata": {},
   "source": [
    "Save dataframe to .csv file"
   ]
  },
  {
   "cell_type": "code",
   "execution_count": 39,
   "metadata": {},
   "outputs": [],
   "source": [
    "df.to_csv(\"NicCageRT_csv.csv\")"
   ]
  },
  {
   "cell_type": "markdown",
   "metadata": {},
   "source": [
    "Save dataframe to excel file"
   ]
  },
  {
   "cell_type": "code",
   "execution_count": null,
   "metadata": {},
   "outputs": [],
   "source": [
    "df.to_csv(\"NicCageRT_xlsx.xlsx\")"
   ]
  }
 ],
 "metadata": {
  "interpreter": {
   "hash": "2a4d97aff5ffe7a04de83bb16a40794a135a1575095c00f26bb023fc57f7db51"
  },
  "kernelspec": {
   "display_name": "Python 3",
   "language": "python",
   "name": "python3"
  },
  "language_info": {
   "codemirror_mode": {
    "name": "ipython",
    "version": 3
   },
   "file_extension": ".py",
   "mimetype": "text/x-python",
   "name": "python",
   "nbconvert_exporter": "python",
   "pygments_lexer": "ipython3",
   "version": "3.10.4"
  }
 },
 "nbformat": 4,
 "nbformat_minor": 4
}
